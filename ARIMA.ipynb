{
 "cells": [
  {
   "cell_type": "code",
   "execution_count": 1,
   "id": "45d4e543",
   "metadata": {},
   "outputs": [
    {
     "name": "stdout",
     "output_type": "stream",
     "text": [
      "Collecting pmdarima\n",
      "  Downloading pmdarima-2.0.3-cp39-cp39-win_amd64.whl (572 kB)\n",
      "Requirement already satisfied: statsmodels>=0.13.2 in c:\\users\\dixit\\anaconda3\\lib\\site-packages (from pmdarima) (0.14.0)\n",
      "Requirement already satisfied: urllib3 in c:\\users\\dixit\\anaconda3\\lib\\site-packages (from pmdarima) (1.26.9)\n",
      "Requirement already satisfied: scipy>=1.3.2 in c:\\users\\dixit\\anaconda3\\lib\\site-packages (from pmdarima) (1.7.3)\n",
      "Requirement already satisfied: numpy>=1.21.2 in c:\\users\\dixit\\anaconda3\\lib\\site-packages (from pmdarima) (1.22.4)\n",
      "Requirement already satisfied: setuptools!=50.0.0,>=38.6.0 in c:\\users\\dixit\\anaconda3\\lib\\site-packages (from pmdarima) (61.2.0)\n",
      "Requirement already satisfied: Cython!=0.29.18,!=0.29.31,>=0.29 in c:\\users\\dixit\\anaconda3\\lib\\site-packages (from pmdarima) (0.29.28)\n",
      "Requirement already satisfied: scikit-learn>=0.22 in c:\\users\\dixit\\anaconda3\\lib\\site-packages (from pmdarima) (1.0.2)\n",
      "Requirement already satisfied: joblib>=0.11 in c:\\users\\dixit\\anaconda3\\lib\\site-packages (from pmdarima) (1.1.0)\n",
      "Requirement already satisfied: pandas>=0.19 in c:\\users\\dixit\\anaconda3\\lib\\site-packages (from pmdarima) (1.4.2)\n",
      "Requirement already satisfied: python-dateutil>=2.8.1 in c:\\users\\dixit\\anaconda3\\lib\\site-packages (from pandas>=0.19->pmdarima) (2.8.2)\n",
      "Requirement already satisfied: pytz>=2020.1 in c:\\users\\dixit\\anaconda3\\lib\\site-packages (from pandas>=0.19->pmdarima) (2021.3)\n",
      "Requirement already satisfied: six>=1.5 in c:\\users\\dixit\\anaconda3\\lib\\site-packages (from python-dateutil>=2.8.1->pandas>=0.19->pmdarima) (1.16.0)\n",
      "Requirement already satisfied: threadpoolctl>=2.0.0 in c:\\users\\dixit\\anaconda3\\lib\\site-packages (from scikit-learn>=0.22->pmdarima) (2.2.0)\n",
      "Requirement already satisfied: patsy>=0.5.2 in c:\\users\\dixit\\anaconda3\\lib\\site-packages (from statsmodels>=0.13.2->pmdarima) (0.5.2)\n",
      "Requirement already satisfied: packaging>=21.3 in c:\\users\\dixit\\anaconda3\\lib\\site-packages (from statsmodels>=0.13.2->pmdarima) (21.3)\n",
      "Requirement already satisfied: pyparsing!=3.0.5,>=2.0.2 in c:\\users\\dixit\\anaconda3\\lib\\site-packages (from packaging>=21.3->statsmodels>=0.13.2->pmdarima) (3.0.4)\n",
      "Installing collected packages: pmdarima\n",
      "Successfully installed pmdarima-2.0.3\n"
     ]
    }
   ],
   "source": [
    "!pip install pmdarima"
   ]
  },
  {
   "cell_type": "code",
   "execution_count": 2,
   "id": "47950cd9",
   "metadata": {},
   "outputs": [],
   "source": [
    "import pandas as pd\n",
    "import numpy as np"
   ]
  },
  {
   "cell_type": "markdown",
   "id": "cf68018e",
   "metadata": {},
   "source": [
    "# Read Data"
   ]
  },
  {
   "cell_type": "code",
   "execution_count": 3,
   "id": "fe08d72d",
   "metadata": {},
   "outputs": [
    {
     "name": "stdout",
     "output_type": "stream",
     "text": [
      "Shape of Data (1821, 5)\n"
     ]
    },
    {
     "data": {
      "text/html": [
       "<div>\n",
       "<style scoped>\n",
       "    .dataframe tbody tr th:only-of-type {\n",
       "        vertical-align: middle;\n",
       "    }\n",
       "\n",
       "    .dataframe tbody tr th {\n",
       "        vertical-align: top;\n",
       "    }\n",
       "\n",
       "    .dataframe thead th {\n",
       "        text-align: right;\n",
       "    }\n",
       "</style>\n",
       "<table border=\"1\" class=\"dataframe\">\n",
       "  <thead>\n",
       "    <tr style=\"text-align: right;\">\n",
       "      <th></th>\n",
       "      <th>MinTemp</th>\n",
       "      <th>MaxTemp</th>\n",
       "      <th>AvgTemp</th>\n",
       "      <th>Sunrise</th>\n",
       "      <th>Sunset</th>\n",
       "    </tr>\n",
       "    <tr>\n",
       "      <th>DATE</th>\n",
       "      <th></th>\n",
       "      <th></th>\n",
       "      <th></th>\n",
       "      <th></th>\n",
       "      <th></th>\n",
       "    </tr>\n",
       "  </thead>\n",
       "  <tbody>\n",
       "    <tr>\n",
       "      <th>2014-01-01</th>\n",
       "      <td>33.0</td>\n",
       "      <td>46.0</td>\n",
       "      <td>40.0</td>\n",
       "      <td>657</td>\n",
       "      <td>1756</td>\n",
       "    </tr>\n",
       "    <tr>\n",
       "      <th>2014-01-02</th>\n",
       "      <td>35.0</td>\n",
       "      <td>50.0</td>\n",
       "      <td>43.0</td>\n",
       "      <td>657</td>\n",
       "      <td>1756</td>\n",
       "    </tr>\n",
       "    <tr>\n",
       "      <th>2014-01-03</th>\n",
       "      <td>36.0</td>\n",
       "      <td>45.0</td>\n",
       "      <td>41.0</td>\n",
       "      <td>657</td>\n",
       "      <td>1757</td>\n",
       "    </tr>\n",
       "    <tr>\n",
       "      <th>2014-01-04</th>\n",
       "      <td>32.0</td>\n",
       "      <td>41.0</td>\n",
       "      <td>37.0</td>\n",
       "      <td>658</td>\n",
       "      <td>1757</td>\n",
       "    </tr>\n",
       "    <tr>\n",
       "      <th>2014-01-05</th>\n",
       "      <td>24.0</td>\n",
       "      <td>38.0</td>\n",
       "      <td>31.0</td>\n",
       "      <td>658</td>\n",
       "      <td>1758</td>\n",
       "    </tr>\n",
       "  </tbody>\n",
       "</table>\n",
       "</div>"
      ],
      "text/plain": [
       "            MinTemp  MaxTemp  AvgTemp  Sunrise  Sunset\n",
       "DATE                                                  \n",
       "2014-01-01     33.0     46.0     40.0      657    1756\n",
       "2014-01-02     35.0     50.0     43.0      657    1756\n",
       "2014-01-03     36.0     45.0     41.0      657    1757\n",
       "2014-01-04     32.0     41.0     37.0      658    1757\n",
       "2014-01-05     24.0     38.0     31.0      658    1758"
      ]
     },
     "execution_count": 3,
     "metadata": {},
     "output_type": "execute_result"
    }
   ],
   "source": [
    "df=pd.read_csv('MaunaLoaDailyTemps.csv',index_col='DATE',parse_dates=True)\n",
    "df=df.dropna()\n",
    "print('Shape of Data',df.shape)\n",
    "df.head()\n"
   ]
  },
  {
   "cell_type": "code",
   "execution_count": 5,
   "id": "17b1b93f",
   "metadata": {},
   "outputs": [
    {
     "data": {
      "text/plain": [
       "<AxesSubplot:xlabel='DATE'>"
      ]
     },
     "execution_count": 5,
     "metadata": {},
     "output_type": "execute_result"
    },
    {
     "data": {
      "image/png": "[encoded data removed]",
      "text/plain": [
       "<Figure size 864x360 with 1 Axes>"
      ]
     },
     "metadata": {
      "needs_background": "light"
     },
     "output_type": "display_data"
    }
   ],
   "source": [
    "df['AvgTemp'].plot(figsize=(12,5))"
   ]
  },
  {
   "cell_type": "code",
   "execution_count": null,
   "id": "376c41f2",
   "metadata": {},
   "outputs": [],
   "source": [
    "\n",
    "    "
   ]
  },
  {
   "cell_type": "markdown",
   "id": "45b563bf",
   "metadata": {},
   "source": [
    "#### P-VALLUE SHOULD BE LESS THAN 0.05 THEEN it is STATIONARY smaller the better\n",
    "0.8,0.5 NOT STATIONARY"
   ]
  },
  {
   "cell_type": "code",
   "execution_count": 6,
   "id": "a4a19a82",
   "metadata": {},
   "outputs": [],
   "source": [
    "from statsmodels.tsa.stattools import adfuller\n",
    "\n",
    "def ad_test(dataset):\n",
    "    dftest=adfuller(dataset,autolag='AIC')\n",
    "    print(\"1. ADF :\",dftest[0])\n",
    "    print(\"2. P-value :\",dftest[1])\n",
    "    print(\"3. Num of Lags :\",dftest[2])\n",
    "    print(\"4. Num of observations used for ADF regression and critical values calculation:\",dftest[3])\n",
    "    print(\"5. Critical Values :\")\n",
    "    \n",
    "    for key,val in dftest[4].items():\n",
    "        print(\"\\t\",key,\":\",val)\n",
    "        "
   ]
  },
  {
   "cell_type": "code",
   "execution_count": 7,
   "id": "6d670ed5",
   "metadata": {},
   "outputs": [
    {
     "name": "stdout",
     "output_type": "stream",
     "text": [
      "1. ADF : -6.554680125068781\n",
      "2. P-value : 8.67593748019951e-09\n",
      "3. Num of Lags : 12\n",
      "4. Num of observations used for ADF regression and critical values calculation: 1808\n",
      "5. Critical Values :\n",
      "\t 1% : -3.433972018026501\n",
      "\t 5% : -2.8631399192826676\n",
      "\t 10% : -2.5676217442756872\n"
     ]
    }
   ],
   "source": [
    "ad_test(df['AvgTemp'])"
   ]
  },
  {
   "cell_type": "markdown",
   "id": "68c08caf",
   "metadata": {},
   "source": [
    "#### Figure Out Order For ARIMA Model"
   ]
  },
  {
   "cell_type": "code",
   "execution_count": 9,
   "id": "b8e891b5",
   "metadata": {},
   "outputs": [],
   "source": [
    "from pmdarima import auto_arima\n",
    "#ignore harmless warnings\n",
    "import warnings\n",
    "warnings.filterwarnings(\"ignore\")"
   ]
  },
  {
   "cell_type": "code",
   "execution_count": 10,
   "id": "16d9c7bd",
   "metadata": {},
   "outputs": [
    {
     "name": "stdout",
     "output_type": "stream",
     "text": [
      "Performing stepwise search to minimize aic\n",
      " ARIMA(2,0,2)(0,0,0)[0] intercept   : AIC=8344.743, Time=1.86 sec\n",
      " ARIMA(0,0,0)(0,0,0)[0] intercept   : AIC=10347.755, Time=0.04 sec\n",
      " ARIMA(1,0,0)(0,0,0)[0] intercept   : AIC=8365.701, Time=0.18 sec\n",
      " ARIMA(0,0,1)(0,0,0)[0] intercept   : AIC=9136.225, Time=0.17 sec\n",
      " ARIMA(0,0,0)(0,0,0)[0]             : AIC=19192.139, Time=0.02 sec\n",
      " ARIMA(1,0,2)(0,0,0)[0] intercept   : AIC=8355.947, Time=1.20 sec\n",
      " ARIMA(2,0,1)(0,0,0)[0] intercept   : AIC=8356.308, Time=1.55 sec\n",
      " ARIMA(3,0,2)(0,0,0)[0] intercept   : AIC=8347.267, Time=2.29 sec\n",
      " ARIMA(2,0,3)(0,0,0)[0] intercept   : AIC=8317.968, Time=2.72 sec\n",
      " ARIMA(1,0,3)(0,0,0)[0] intercept   : AIC=8330.192, Time=2.36 sec\n",
      " ARIMA(3,0,3)(0,0,0)[0] intercept   : AIC=8310.713, Time=2.48 sec\n",
      " ARIMA(4,0,3)(0,0,0)[0] intercept   : AIC=8332.019, Time=2.85 sec\n",
      " ARIMA(3,0,4)(0,0,0)[0] intercept   : AIC=8317.653, Time=2.79 sec\n",
      " ARIMA(2,0,4)(0,0,0)[0] intercept   : AIC=8306.749, Time=3.34 sec\n",
      " ARIMA(1,0,4)(0,0,0)[0] intercept   : AIC=8296.888, Time=2.97 sec\n",
      " ARIMA(0,0,4)(0,0,0)[0] intercept   : AIC=8455.435, Time=0.62 sec\n",
      " ARIMA(1,0,5)(0,0,0)[0] intercept   : AIC=8295.485, Time=2.57 sec\n",
      " ARIMA(0,0,5)(0,0,0)[0] intercept   : AIC=8419.091, Time=0.71 sec\n",
      " ARIMA(2,0,5)(0,0,0)[0] intercept   : AIC=8302.245, Time=2.94 sec\n",
      " ARIMA(1,0,5)(0,0,0)[0]             : AIC=8304.533, Time=0.29 sec\n",
      "\n",
      "Best model:  ARIMA(1,0,5)(0,0,0)[0] intercept\n",
      "Total fit time: 34.121 seconds\n"
     ]
    },
    {
     "data": {
      "text/html": [
       "<table class=\"simpletable\">\n",
       "<caption>SARIMAX Results</caption>\n",
       "<tr>\n",
       "  <th>Dep. Variable:</th>           <td>y</td>        <th>  No. Observations:  </th>   <td>1821</td>   \n",
       "</tr>\n",
       "<tr>\n",
       "  <th>Model:</th>           <td>SARIMAX(1, 0, 5)</td> <th>  Log Likelihood     </th> <td>-4139.742</td>\n",
       "</tr>\n",
       "<tr>\n",
       "  <th>Date:</th>            <td>Thu, 29 Jun 2023</td> <th>  AIC                </th> <td>8295.485</td> \n",
       "</tr>\n",
       "<tr>\n",
       "  <th>Time:</th>                <td>16:43:00</td>     <th>  BIC                </th> <td>8339.542</td> \n",
       "</tr>\n",
       "<tr>\n",
       "  <th>Sample:</th>                  <td>0</td>        <th>  HQIC               </th> <td>8311.739</td> \n",
       "</tr>\n",
       "<tr>\n",
       "  <th></th>                      <td> - 1821</td>     <th>                     </th>     <td> </td>    \n",
       "</tr>\n",
       "<tr>\n",
       "  <th>Covariance Type:</th>        <td>opg</td>       <th>                     </th>     <td> </td>    \n",
       "</tr>\n",
       "</table>\n",
       "<table class=\"simpletable\">\n",
       "<tr>\n",
       "      <td></td>         <th>coef</th>     <th>std err</th>      <th>z</th>      <th>P>|z|</th>  <th>[0.025</th>    <th>0.975]</th>  \n",
       "</tr>\n",
       "<tr>\n",
       "  <th>intercept</th> <td>    1.3091</td> <td>    0.383</td> <td>    3.420</td> <td> 0.001</td> <td>    0.559</td> <td>    2.059</td>\n",
       "</tr>\n",
       "<tr>\n",
       "  <th>ar.L1</th>     <td>    0.9718</td> <td>    0.008</td> <td>  117.853</td> <td> 0.000</td> <td>    0.956</td> <td>    0.988</td>\n",
       "</tr>\n",
       "<tr>\n",
       "  <th>ma.L1</th>     <td>   -0.1240</td> <td>    0.024</td> <td>   -5.229</td> <td> 0.000</td> <td>   -0.170</td> <td>   -0.078</td>\n",
       "</tr>\n",
       "<tr>\n",
       "  <th>ma.L2</th>     <td>   -0.2160</td> <td>    0.024</td> <td>   -8.952</td> <td> 0.000</td> <td>   -0.263</td> <td>   -0.169</td>\n",
       "</tr>\n",
       "<tr>\n",
       "  <th>ma.L3</th>     <td>   -0.2050</td> <td>    0.024</td> <td>   -8.602</td> <td> 0.000</td> <td>   -0.252</td> <td>   -0.158</td>\n",
       "</tr>\n",
       "<tr>\n",
       "  <th>ma.L4</th>     <td>   -0.1374</td> <td>    0.023</td> <td>   -6.061</td> <td> 0.000</td> <td>   -0.182</td> <td>   -0.093</td>\n",
       "</tr>\n",
       "<tr>\n",
       "  <th>ma.L5</th>     <td>   -0.0466</td> <td>    0.024</td> <td>   -1.921</td> <td> 0.055</td> <td>   -0.094</td> <td>    0.001</td>\n",
       "</tr>\n",
       "<tr>\n",
       "  <th>sigma2</th>    <td>    5.4651</td> <td>    0.170</td> <td>   32.141</td> <td> 0.000</td> <td>    5.132</td> <td>    5.798</td>\n",
       "</tr>\n",
       "</table>\n",
       "<table class=\"simpletable\">\n",
       "<tr>\n",
       "  <th>Ljung-Box (L1) (Q):</th>     <td>0.00</td> <th>  Jarque-Bera (JB):  </th> <td>20.99</td>\n",
       "</tr>\n",
       "<tr>\n",
       "  <th>Prob(Q):</th>                <td>0.98</td> <th>  Prob(JB):          </th> <td>0.00</td> \n",
       "</tr>\n",
       "<tr>\n",
       "  <th>Heteroskedasticity (H):</th> <td>0.81</td> <th>  Skew:              </th> <td>-0.17</td>\n",
       "</tr>\n",
       "<tr>\n",
       "  <th>Prob(H) (two-sided):</th>    <td>0.01</td> <th>  Kurtosis:          </th> <td>3.39</td> \n",
       "</tr>\n",
       "</table><br/><br/>Warnings:<br/>[1] Covariance matrix calculated using the outer product of gradients (complex-step)."
      ],
      "text/latex": [
       "\\begin{center}\n",
       "\\begin{tabular}{lclc}\n",
       "\\toprule\n",
       "\\textbf{Dep. Variable:}          &        y         & \\textbf{  No. Observations:  } &    1821     \\\\\n",
       "\\textbf{Model:}                  & SARIMAX(1, 0, 5) & \\textbf{  Log Likelihood     } & -4139.742   \\\\\n",
       "\\textbf{Date:}                   & Thu, 29 Jun 2023 & \\textbf{  AIC                } &  8295.485   \\\\\n",
       "\\textbf{Time:}                   &     16:43:00     & \\textbf{  BIC                } &  8339.542   \\\\\n",
       "\\textbf{Sample:}                 &        0         & \\textbf{  HQIC               } &  8311.739   \\\\\n",
       "\\textbf{}                        &      - 1821      & \\textbf{                     } &             \\\\\n",
       "\\textbf{Covariance Type:}        &       opg        & \\textbf{                     } &             \\\\\n",
       "\\bottomrule\n",
       "\\end{tabular}\n",
       "\\begin{tabular}{lcccccc}\n",
       "                   & \\textbf{coef} & \\textbf{std err} & \\textbf{z} & \\textbf{P$> |$z$|$} & \\textbf{[0.025} & \\textbf{0.975]}  \\\\\n",
       "\\midrule\n",
       "\\textbf{intercept} &       1.3091  &        0.383     &     3.420  &         0.001        &        0.559    &        2.059     \\\\\n",
       "\\textbf{ar.L1}     &       0.9718  &        0.008     &   117.853  &         0.000        &        0.956    &        0.988     \\\\\n",
       "\\textbf{ma.L1}     &      -0.1240  &        0.024     &    -5.229  &         0.000        &       -0.170    &       -0.078     \\\\\n",
       "\\textbf{ma.L2}     &      -0.2160  &        0.024     &    -8.952  &         0.000        &       -0.263    &       -0.169     \\\\\n",
       "\\textbf{ma.L3}     &      -0.2050  &        0.024     &    -8.602  &         0.000        &       -0.252    &       -0.158     \\\\\n",
       "\\textbf{ma.L4}     &      -0.1374  &        0.023     &    -6.061  &         0.000        &       -0.182    &       -0.093     \\\\\n",
       "\\textbf{ma.L5}     &      -0.0466  &        0.024     &    -1.921  &         0.055        &       -0.094    &        0.001     \\\\\n",
       "\\textbf{sigma2}    &       5.4651  &        0.170     &    32.141  &         0.000        &        5.132    &        5.798     \\\\\n",
       "\\bottomrule\n",
       "\\end{tabular}\n",
       "\\begin{tabular}{lclc}\n",
       "\\textbf{Ljung-Box (L1) (Q):}     & 0.00 & \\textbf{  Jarque-Bera (JB):  } & 20.99  \\\\\n",
       "\\textbf{Prob(Q):}                & 0.98 & \\textbf{  Prob(JB):          } &  0.00  \\\\\n",
       "\\textbf{Heteroskedasticity (H):} & 0.81 & \\textbf{  Skew:              } & -0.17  \\\\\n",
       "\\textbf{Prob(H) (two-sided):}    & 0.01 & \\textbf{  Kurtosis:          } &  3.39  \\\\\n",
       "\\bottomrule\n",
       "\\end{tabular}\n",
       "%\\caption{SARIMAX Results}\n",
       "\\end{center}\n",
       "\n",
       "Warnings: \\newline\n",
       " [1] Covariance matrix calculated using the outer product of gradients (complex-step)."
      ],
      "text/plain": [
       "<class 'statsmodels.iolib.summary.Summary'>\n",
       "\"\"\"\n",
       "                               SARIMAX Results                                \n",
       "==============================================================================\n",
       "Dep. Variable:                      y   No. Observations:                 1821\n",
       "Model:               SARIMAX(1, 0, 5)   Log Likelihood               -4139.742\n",
       "Date:                Thu, 29 Jun 2023   AIC                           8295.485\n",
       "Time:                        16:43:00   BIC                           8339.542\n",
       "Sample:                             0   HQIC                          8311.739\n",
       "                               - 1821                                         \n",
       "Covariance Type:                  opg                                         \n",
       "==============================================================================\n",
       "                 coef    std err          z      P>|z|      [0.025      0.975]\n",
       "------------------------------------------------------------------------------\n",
       "intercept      1.3091      0.383      3.420      0.001       0.559       2.059\n",
       "ar.L1          0.9718      0.008    117.853      0.000       0.956       0.988\n",
       "ma.L1         -0.1240      0.024     -5.229      0.000      -0.170      -0.078\n",
       "ma.L2         -0.2160      0.024     -8.952      0.000      -0.263      -0.169\n",
       "ma.L3         -0.2050      0.024     -8.602      0.000      -0.252      -0.158\n",
       "ma.L4         -0.1374      0.023     -6.061      0.000      -0.182      -0.093\n",
       "ma.L5         -0.0466      0.024     -1.921      0.055      -0.094       0.001\n",
       "sigma2         5.4651      0.170     32.141      0.000       5.132       5.798\n",
       "===================================================================================\n",
       "Ljung-Box (L1) (Q):                   0.00   Jarque-Bera (JB):                20.99\n",
       "Prob(Q):                              0.98   Prob(JB):                         0.00\n",
       "Heteroskedasticity (H):               0.81   Skew:                            -0.17\n",
       "Prob(H) (two-sided):                  0.01   Kurtosis:                         3.39\n",
       "===================================================================================\n",
       "\n",
       "Warnings:\n",
       "[1] Covariance matrix calculated using the outer product of gradients (complex-step).\n",
       "\"\"\""
      ]
     },
     "execution_count": 10,
     "metadata": {},
     "output_type": "execute_result"
    }
   ],
   "source": [
    "stepwise_fit=auto_arima(df['AvgTemp'],trace=True,suppress_warnings=True)\n",
    "stepwise_fit.summary()"
   ]
  },
  {
   "cell_type": "code",
   "execution_count": 15,
   "id": "3978e1a4",
   "metadata": {},
   "outputs": [],
   "source": [
    "from statsmodels.tsa.arima.model import ARIMA"
   ]
  },
  {
   "cell_type": "markdown",
   "id": "8afbd299",
   "metadata": {},
   "source": [
    "#### Split Data into Training and Testing\n"
   ]
  },
  {
   "cell_type": "code",
   "execution_count": 16,
   "id": "9bbbef63",
   "metadata": {},
   "outputs": [
    {
     "name": "stdout",
     "output_type": "stream",
     "text": [
      "(1821, 5)\n",
      "(1791, 5) (30, 5)\n"
     ]
    }
   ],
   "source": [
    "print(df.shape)\n",
    "train=df.iloc[:-30]\n",
    "test=df.iloc[-30:]\n",
    "print(train.shape,test.shape)"
   ]
  },
  {
   "cell_type": "markdown",
   "id": "8e750f39",
   "metadata": {},
   "source": [
    "#### Train The Model"
   ]
  },
  {
   "cell_type": "code",
   "execution_count": 17,
   "id": "94cbc7a2",
   "metadata": {},
   "outputs": [
    {
     "data": {
      "text/html": [
       "<table class=\"simpletable\">\n",
       "<caption>SARIMAX Results</caption>\n",
       "<tr>\n",
       "  <th>Dep. Variable:</th>        <td>AvgTemp</td>     <th>  No. Observations:  </th>   <td>1791</td>   \n",
       "</tr>\n",
       "<tr>\n",
       "  <th>Model:</th>            <td>ARIMA(1, 0, 5)</td>  <th>  Log Likelihood     </th> <td>-4070.198</td>\n",
       "</tr>\n",
       "<tr>\n",
       "  <th>Date:</th>            <td>Thu, 29 Jun 2023</td> <th>  AIC                </th> <td>8156.395</td> \n",
       "</tr>\n",
       "<tr>\n",
       "  <th>Time:</th>                <td>17:01:16</td>     <th>  BIC                </th> <td>8200.320</td> \n",
       "</tr>\n",
       "<tr>\n",
       "  <th>Sample:</th>                  <td>0</td>        <th>  HQIC               </th> <td>8172.614</td> \n",
       "</tr>\n",
       "<tr>\n",
       "  <th></th>                      <td> - 1791</td>     <th>                     </th>     <td> </td>    \n",
       "</tr>\n",
       "<tr>\n",
       "  <th>Covariance Type:</th>        <td>opg</td>       <th>                     </th>     <td> </td>    \n",
       "</tr>\n",
       "</table>\n",
       "<table class=\"simpletable\">\n",
       "<tr>\n",
       "     <td></td>       <th>coef</th>     <th>std err</th>      <th>z</th>      <th>P>|z|</th>  <th>[0.025</th>    <th>0.975]</th>  \n",
       "</tr>\n",
       "<tr>\n",
       "  <th>const</th>  <td>   46.5856</td> <td>    0.758</td> <td>   61.454</td> <td> 0.000</td> <td>   45.100</td> <td>   48.071</td>\n",
       "</tr>\n",
       "<tr>\n",
       "  <th>ar.L1</th>  <td>    0.9856</td> <td>    0.005</td> <td>  188.230</td> <td> 0.000</td> <td>    0.975</td> <td>    0.996</td>\n",
       "</tr>\n",
       "<tr>\n",
       "  <th>ma.L1</th>  <td>   -0.1412</td> <td>    0.023</td> <td>   -6.124</td> <td> 0.000</td> <td>   -0.186</td> <td>   -0.096</td>\n",
       "</tr>\n",
       "<tr>\n",
       "  <th>ma.L2</th>  <td>   -0.2268</td> <td>    0.024</td> <td>   -9.635</td> <td> 0.000</td> <td>   -0.273</td> <td>   -0.181</td>\n",
       "</tr>\n",
       "<tr>\n",
       "  <th>ma.L3</th>  <td>   -0.2168</td> <td>    0.023</td> <td>   -9.251</td> <td> 0.000</td> <td>   -0.263</td> <td>   -0.171</td>\n",
       "</tr>\n",
       "<tr>\n",
       "  <th>ma.L4</th>  <td>   -0.1479</td> <td>    0.023</td> <td>   -6.491</td> <td> 0.000</td> <td>   -0.193</td> <td>   -0.103</td>\n",
       "</tr>\n",
       "<tr>\n",
       "  <th>ma.L5</th>  <td>   -0.0595</td> <td>    0.024</td> <td>   -2.438</td> <td> 0.015</td> <td>   -0.107</td> <td>   -0.012</td>\n",
       "</tr>\n",
       "<tr>\n",
       "  <th>sigma2</th> <td>    5.5093</td> <td>    0.174</td> <td>   31.624</td> <td> 0.000</td> <td>    5.168</td> <td>    5.851</td>\n",
       "</tr>\n",
       "</table>\n",
       "<table class=\"simpletable\">\n",
       "<tr>\n",
       "  <th>Ljung-Box (L1) (Q):</th>     <td>0.00</td> <th>  Jarque-Bera (JB):  </th> <td>14.88</td>\n",
       "</tr>\n",
       "<tr>\n",
       "  <th>Prob(Q):</th>                <td>0.97</td> <th>  Prob(JB):          </th> <td>0.00</td> \n",
       "</tr>\n",
       "<tr>\n",
       "  <th>Heteroskedasticity (H):</th> <td>0.82</td> <th>  Skew:              </th> <td>-0.15</td>\n",
       "</tr>\n",
       "<tr>\n",
       "  <th>Prob(H) (two-sided):</th>    <td>0.01</td> <th>  Kurtosis:          </th> <td>3.33</td> \n",
       "</tr>\n",
       "</table><br/><br/>Warnings:<br/>[1] Covariance matrix calculated using the outer product of gradients (complex-step)."
      ],
      "text/latex": [
       "\\begin{center}\n",
       "\\begin{tabular}{lclc}\n",
       "\\toprule\n",
       "\\textbf{Dep. Variable:}          &     AvgTemp      & \\textbf{  No. Observations:  } &    1791     \\\\\n",
       "\\textbf{Model:}                  &  ARIMA(1, 0, 5)  & \\textbf{  Log Likelihood     } & -4070.198   \\\\\n",
       "\\textbf{Date:}                   & Thu, 29 Jun 2023 & \\textbf{  AIC                } &  8156.395   \\\\\n",
       "\\textbf{Time:}                   &     17:01:16     & \\textbf{  BIC                } &  8200.320   \\\\\n",
       "\\textbf{Sample:}                 &        0         & \\textbf{  HQIC               } &  8172.614   \\\\\n",
       "\\textbf{}                        &      - 1791      & \\textbf{                     } &             \\\\\n",
       "\\textbf{Covariance Type:}        &       opg        & \\textbf{                     } &             \\\\\n",
       "\\bottomrule\n",
       "\\end{tabular}\n",
       "\\begin{tabular}{lcccccc}\n",
       "                & \\textbf{coef} & \\textbf{std err} & \\textbf{z} & \\textbf{P$> |$z$|$} & \\textbf{[0.025} & \\textbf{0.975]}  \\\\\n",
       "\\midrule\n",
       "\\textbf{const}  &      46.5856  &        0.758     &    61.454  &         0.000        &       45.100    &       48.071     \\\\\n",
       "\\textbf{ar.L1}  &       0.9856  &        0.005     &   188.230  &         0.000        &        0.975    &        0.996     \\\\\n",
       "\\textbf{ma.L1}  &      -0.1412  &        0.023     &    -6.124  &         0.000        &       -0.186    &       -0.096     \\\\\n",
       "\\textbf{ma.L2}  &      -0.2268  &        0.024     &    -9.635  &         0.000        &       -0.273    &       -0.181     \\\\\n",
       "\\textbf{ma.L3}  &      -0.2168  &        0.023     &    -9.251  &         0.000        &       -0.263    &       -0.171     \\\\\n",
       "\\textbf{ma.L4}  &      -0.1479  &        0.023     &    -6.491  &         0.000        &       -0.193    &       -0.103     \\\\\n",
       "\\textbf{ma.L5}  &      -0.0595  &        0.024     &    -2.438  &         0.015        &       -0.107    &       -0.012     \\\\\n",
       "\\textbf{sigma2} &       5.5093  &        0.174     &    31.624  &         0.000        &        5.168    &        5.851     \\\\\n",
       "\\bottomrule\n",
       "\\end{tabular}\n",
       "\\begin{tabular}{lclc}\n",
       "\\textbf{Ljung-Box (L1) (Q):}     & 0.00 & \\textbf{  Jarque-Bera (JB):  } & 14.88  \\\\\n",
       "\\textbf{Prob(Q):}                & 0.97 & \\textbf{  Prob(JB):          } &  0.00  \\\\\n",
       "\\textbf{Heteroskedasticity (H):} & 0.82 & \\textbf{  Skew:              } & -0.15  \\\\\n",
       "\\textbf{Prob(H) (two-sided):}    & 0.01 & \\textbf{  Kurtosis:          } &  3.33  \\\\\n",
       "\\bottomrule\n",
       "\\end{tabular}\n",
       "%\\caption{SARIMAX Results}\n",
       "\\end{center}\n",
       "\n",
       "Warnings: \\newline\n",
       " [1] Covariance matrix calculated using the outer product of gradients (complex-step)."
      ],
      "text/plain": [
       "<class 'statsmodels.iolib.summary.Summary'>\n",
       "\"\"\"\n",
       "                               SARIMAX Results                                \n",
       "==============================================================================\n",
       "Dep. Variable:                AvgTemp   No. Observations:                 1791\n",
       "Model:                 ARIMA(1, 0, 5)   Log Likelihood               -4070.198\n",
       "Date:                Thu, 29 Jun 2023   AIC                           8156.395\n",
       "Time:                        17:01:16   BIC                           8200.320\n",
       "Sample:                             0   HQIC                          8172.614\n",
       "                               - 1791                                         \n",
       "Covariance Type:                  opg                                         \n",
       "==============================================================================\n",
       "                 coef    std err          z      P>|z|      [0.025      0.975]\n",
       "------------------------------------------------------------------------------\n",
       "const         46.5856      0.758     61.454      0.000      45.100      48.071\n",
       "ar.L1          0.9856      0.005    188.230      0.000       0.975       0.996\n",
       "ma.L1         -0.1412      0.023     -6.124      0.000      -0.186      -0.096\n",
       "ma.L2         -0.2268      0.024     -9.635      0.000      -0.273      -0.181\n",
       "ma.L3         -0.2168      0.023     -9.251      0.000      -0.263      -0.171\n",
       "ma.L4         -0.1479      0.023     -6.491      0.000      -0.193      -0.103\n",
       "ma.L5         -0.0595      0.024     -2.438      0.015      -0.107      -0.012\n",
       "sigma2         5.5093      0.174     31.624      0.000       5.168       5.851\n",
       "===================================================================================\n",
       "Ljung-Box (L1) (Q):                   0.00   Jarque-Bera (JB):                14.88\n",
       "Prob(Q):                              0.97   Prob(JB):                         0.00\n",
       "Heteroskedasticity (H):               0.82   Skew:                            -0.15\n",
       "Prob(H) (two-sided):                  0.01   Kurtosis:                         3.33\n",
       "===================================================================================\n",
       "\n",
       "Warnings:\n",
       "[1] Covariance matrix calculated using the outer product of gradients (complex-step).\n",
       "\"\"\""
      ]
     },
     "execution_count": 17,
     "metadata": {},
     "output_type": "execute_result"
    }
   ],
   "source": [
    "model=ARIMA(train['AvgTemp'],order=(1,0,5))\n",
    "model=model.fit()\n",
    "model.summary()"
   ]
  },
  {
   "cell_type": "markdown",
   "id": "40b6146c",
   "metadata": {},
   "source": [
    "#### Make Predictions on Test Set"
   ]
  },
  {
   "cell_type": "code",
   "execution_count": 20,
   "id": "653ecc98",
   "metadata": {},
   "outputs": [
    {
     "name": "stdout",
     "output_type": "stream",
     "text": [
      "DATE\n",
      "2018-12-01    44.754109\n",
      "2018-12-02    44.987795\n",
      "2018-12-03    45.388741\n",
      "2018-12-04    45.721546\n",
      "2018-12-05    45.863733\n",
      "2018-12-06    45.874126\n",
      "2018-12-07    45.884370\n",
      "2018-12-08    45.894467\n",
      "2018-12-09    45.904417\n",
      "2018-12-10    45.914225\n",
      "2018-12-11    45.923892\n",
      "2018-12-12    45.933419\n",
      "2018-12-13    45.942809\n",
      "2018-12-14    45.952064\n",
      "2018-12-15    45.961185\n",
      "2018-12-16    45.970176\n",
      "2018-12-17    45.979037\n",
      "2018-12-18    45.987770\n",
      "2018-12-19    45.996377\n",
      "2018-12-20    46.004861\n",
      "2018-12-21    46.013223\n",
      "2018-12-22    46.021464\n",
      "2018-12-23    46.029586\n",
      "2018-12-24    46.037592\n",
      "2018-12-25    46.045482\n",
      "2018-12-26    46.053258\n",
      "2018-12-27    46.060923\n",
      "2018-12-28    46.068477\n",
      "2018-12-29    46.075923\n",
      "2018-12-30    46.083261\n",
      "Name: predicted_mean, dtype: float64\n"
     ]
    }
   ],
   "source": [
    "start=len(train)\n",
    "end=len(train)+len(test)-1\n",
    "pred=model.predict(start=start,end=end,type='levels')\n",
    "pred.index=df.index[start:end+1]\n",
    "print(pred)"
   ]
  },
  {
   "cell_type": "code",
   "execution_count": 21,
   "id": "bc054581",
   "metadata": {},
   "outputs": [
    {
     "data": {
      "text/plain": [
       "<AxesSubplot:xlabel='DATE'>"
      ]
     },
     "execution_count": 21,
     "metadata": {},
     "output_type": "execute_result"
    },
    {
     "data": {
      "image/png": "[encoded data removed]",
      "text/plain": [
       "<Figure size 432x288 with 1 Axes>"
      ]
     },
     "metadata": {
      "needs_background": "light"
     },
     "output_type": "display_data"
    }
   ],
   "source": [
    "pred.plot(legend=True)\n",
    "test['AvgTemp'].plot(legend=True)"
   ]
  },
  {
   "cell_type": "code",
   "execution_count": 22,
   "id": "ef927255",
   "metadata": {},
   "outputs": [
    {
     "data": {
      "text/plain": [
       "45.0"
      ]
     },
     "execution_count": 22,
     "metadata": {},
     "output_type": "execute_result"
    }
   ],
   "source": [
    "test['AvgTemp'].mean()"
   ]
  },
  {
   "cell_type": "code",
   "execution_count": 23,
   "id": "c7770932",
   "metadata": {},
   "outputs": [
    {
     "name": "stdout",
     "output_type": "stream",
     "text": [
      "3.000463978875173\n"
     ]
    }
   ],
   "source": [
    "from sklearn.metrics import mean_squared_error\n",
    "from math import sqrt\n",
    "rmse=sqrt(mean_squared_error(pred,test['AvgTemp']))\n",
    "print(rmse)"
   ]
  },
  {
   "cell_type": "code",
   "execution_count": 25,
   "id": "f0bdde88",
   "metadata": {},
   "outputs": [
    {
     "data": {
      "text/html": [
       "<div>\n",
       "<style scoped>\n",
       "    .dataframe tbody tr th:only-of-type {\n",
       "        vertical-align: middle;\n",
       "    }\n",
       "\n",
       "    .dataframe tbody tr th {\n",
       "        vertical-align: top;\n",
       "    }\n",
       "\n",
       "    .dataframe thead th {\n",
       "        text-align: right;\n",
       "    }\n",
       "</style>\n",
       "<table border=\"1\" class=\"dataframe\">\n",
       "  <thead>\n",
       "    <tr style=\"text-align: right;\">\n",
       "      <th></th>\n",
       "      <th>MinTemp</th>\n",
       "      <th>MaxTemp</th>\n",
       "      <th>AvgTemp</th>\n",
       "      <th>Sunrise</th>\n",
       "      <th>Sunset</th>\n",
       "    </tr>\n",
       "    <tr>\n",
       "      <th>DATE</th>\n",
       "      <th></th>\n",
       "      <th></th>\n",
       "      <th></th>\n",
       "      <th></th>\n",
       "      <th></th>\n",
       "    </tr>\n",
       "  </thead>\n",
       "  <tbody>\n",
       "    <tr>\n",
       "      <th>2018-12-26</th>\n",
       "      <td>35.0</td>\n",
       "      <td>45.0</td>\n",
       "      <td>40.0</td>\n",
       "      <td>654</td>\n",
       "      <td>1752</td>\n",
       "    </tr>\n",
       "    <tr>\n",
       "      <th>2018-12-27</th>\n",
       "      <td>33.0</td>\n",
       "      <td>44.0</td>\n",
       "      <td>39.0</td>\n",
       "      <td>655</td>\n",
       "      <td>1752</td>\n",
       "    </tr>\n",
       "    <tr>\n",
       "      <th>2018-12-28</th>\n",
       "      <td>33.0</td>\n",
       "      <td>47.0</td>\n",
       "      <td>40.0</td>\n",
       "      <td>655</td>\n",
       "      <td>1753</td>\n",
       "    </tr>\n",
       "    <tr>\n",
       "      <th>2018-12-29</th>\n",
       "      <td>36.0</td>\n",
       "      <td>47.0</td>\n",
       "      <td>42.0</td>\n",
       "      <td>655</td>\n",
       "      <td>1753</td>\n",
       "    </tr>\n",
       "    <tr>\n",
       "      <th>2018-12-30</th>\n",
       "      <td>39.0</td>\n",
       "      <td>52.0</td>\n",
       "      <td>46.0</td>\n",
       "      <td>656</td>\n",
       "      <td>1754</td>\n",
       "    </tr>\n",
       "  </tbody>\n",
       "</table>\n",
       "</div>"
      ],
      "text/plain": [
       "            MinTemp  MaxTemp  AvgTemp  Sunrise  Sunset\n",
       "DATE                                                  \n",
       "2018-12-26     35.0     45.0     40.0      654    1752\n",
       "2018-12-27     33.0     44.0     39.0      655    1752\n",
       "2018-12-28     33.0     47.0     40.0      655    1753\n",
       "2018-12-29     36.0     47.0     42.0      655    1753\n",
       "2018-12-30     39.0     52.0     46.0      656    1754"
      ]
     },
     "execution_count": 25,
     "metadata": {},
     "output_type": "execute_result"
    }
   ],
   "source": [
    "model2=ARIMA(df['AvgTemp'],order=(1,0,5))\n",
    "model2=model2.fit()\n",
    "df.tail()"
   ]
  },
  {
   "cell_type": "code",
   "execution_count": 27,
   "id": "c91ac73c",
   "metadata": {},
   "outputs": [
    {
     "name": "stdout",
     "output_type": "stream",
     "text": [
      "2018-12-30    46.418166\n",
      "2018-12-31    46.113912\n",
      "2019-01-01    45.617874\n",
      "2019-01-02    45.249565\n",
      "2019-01-03    45.116915\n",
      "2019-01-04    45.136665\n",
      "2019-01-05    45.156139\n",
      "2019-01-06    45.175340\n",
      "2019-01-07    45.194273\n",
      "2019-01-08    45.212940\n",
      "2019-01-09    45.231347\n",
      "2019-01-10    45.249496\n",
      "2019-01-11    45.267391\n",
      "2019-01-12    45.285036\n",
      "2019-01-13    45.302434\n",
      "2019-01-14    45.319588\n",
      "2019-01-15    45.336502\n",
      "2019-01-16    45.353180\n",
      "2019-01-17    45.369624\n",
      "2019-01-18    45.385839\n",
      "2019-01-19    45.401826\n",
      "2019-01-20    45.417590\n",
      "2019-01-21    45.433133\n",
      "2019-01-22    45.448458\n",
      "2019-01-23    45.463570\n",
      "2019-01-24    45.478469\n",
      "2019-01-25    45.493161\n",
      "2019-01-26    45.507646\n",
      "2019-01-27    45.521929\n",
      "2019-01-28    45.536013\n",
      "2019-01-29    45.549899\n",
      "Freq: D, Name: ARIMA Predictions, dtype: float64\n"
     ]
    }
   ],
   "source": [
    "index_future_dates=pd.date_range(start='2018-12-30',end='2019-01-29')\n",
    "pred2=model2.predict(start=len(df),end=len(df)+30,typ='levels').rename('ARIMA Predictions')\n",
    "pred2.index=index_future_dates\n",
    "print(pred2)"
   ]
  },
  {
   "cell_type": "code",
   "execution_count": 28,
   "id": "ef611fe8",
   "metadata": {},
   "outputs": [
    {
     "data": {
      "text/plain": [
       "<AxesSubplot:>"
      ]
     },
     "execution_count": 28,
     "metadata": {},
     "output_type": "execute_result"
    },
    {
     "data": {
      "image/png": "[encoded data removed]",
      "text/plain": [
       "<Figure size 864x360 with 1 Axes>"
      ]
     },
     "metadata": {
      "needs_background": "light"
     },
     "output_type": "display_data"
    }
   ],
   "source": [
    "pred2.plot(figsize=(12,5),legend=True)"
   ]
  },
  {
   "cell_type": "code",
   "execution_count": null,
   "id": "95636ac7",
   "metadata": {},
   "outputs": [],
   "source": []
  }
 ],
 "metadata": {
  "kernelspec": {
   "display_name": "Python 3 (ipykernel)",
   "language": "python",
   "name": "python3"
  },
  "language_info": {
   "codemirror_mode": {
    "name": "ipython",
    "version": 3
   },
   "file_extension": ".py",
   "mimetype": "text/x-python",
   "name": "python",
   "nbconvert_exporter": "python",
   "pygments_lexer": "ipython3",
   "version": "3.9.12"
  }
 },
 "nbformat": 4,
 "nbformat_minor": 5
}
